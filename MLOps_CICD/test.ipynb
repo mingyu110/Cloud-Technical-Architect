{
 "cells": [
  {
   "metadata": {},
   "cell_type": "markdown",
   "source": "### Test SageMaker endpoint\n",
   "id": "57ac0f912772072b"
  },
  {
   "metadata": {},
   "cell_type": "code",
   "outputs": [],
   "execution_count": null,
   "source": [
    "import json\n",
    "import re\n",
    "from io import StringIO\n",
    "import pandas as pd\n",
    "import matplotlib.pyplot as plt\n",
    "import seaborn as sn\n",
    "\n",
    "import boto3\n",
    "import sagemaker\n",
    "\n",
    "from aws_profiles import UserProfiles\n",
    "profiles = UserProfiles()"
   ],
   "id": "d821cb24c1b085de"
  },
  {
   "metadata": {},
   "cell_type": "markdown",
   "source": "#### Pick the AWS profile that you want to use\n",
   "id": "a4021233ee946ca2"
  },
  {
   "metadata": {},
   "cell_type": "code",
   "outputs": [],
   "execution_count": null,
   "source": [
    "profile = \"prod\"\n",
    "profile_id = profiles.get_profile_id(profile)\n",
    "\n",
    "session = boto3.Session(profile_name=profile)\n",
    "dev_s3_client = session.client(\"s3\")\n",
    "sm_client = session.client('sagemaker-runtime')"
   ],
   "id": "20a7c237f864549e"
  },
  {
   "metadata": {},
   "cell_type": "code",
   "outputs": [],
   "execution_count": null,
   "source": [
    "sm_session = sagemaker.Session(boto_session=session)\n",
    "default_bucket = sm_session.default_bucket()\n",
    "\n",
    "iam = session.client(\"iam\")\n",
    "role_arn = iam.get_role(RoleName=f\"{profile_id}-sagemaker-exec\")[\"Role\"][\"Arn\"]"
   ],
   "id": "37a455a11029a87d"
  },
  {
   "metadata": {},
   "cell_type": "markdown",
   "source": [
    "### 1. Run Inference on deployed endpoint\n",
    "#### 1.1 Load eval data from AWS S3 bucket\n"
   ],
   "id": "9b51fa506f8ade9e"
  },
  {
   "metadata": {},
   "cell_type": "code",
   "outputs": [],
   "execution_count": null,
   "source": [
    "s3_client = session.client(\"s3\")\n",
    "file_path = \"data/val.csv\"\n",
    "\n",
    "s3_object = s3_client.get_object(Bucket=default_bucket, Key=file_path)\n",
    "body = s3_object[\"Body\"]\n",
    "csv_string = body.read().decode(\"utf-8\")\n",
    "df = pd.read_csv(StringIO(csv_string), index_col=0)\n",
    "df.reset_index(drop=True, inplace=True)\n",
    "df.head()"
   ],
   "id": "12530bfbb81b6df5"
  },
  {
   "metadata": {},
   "cell_type": "markdown",
   "source": "#### 1.2 Show examples\n",
   "id": "ee3a5647973b6c82"
  },
  {
   "metadata": {},
   "cell_type": "code",
   "outputs": [],
   "execution_count": null,
   "source": [
    "inputs = df.transcription.tolist()\n",
    "targets = df.medical_specialty.tolist()\n",
    "\n",
    "n_prints = 10\n",
    "for t, i in zip(targets[:n_prints], inputs[:n_prints]):\n",
    "    text_block = re.sub(\"(.{120})\", \"\\\\1\\n\", i, 0, re.DOTALL)\n",
    "    print(f\"'{t}': \\n {text_block[:500]} ... \\n\")"
   ],
   "id": "fe0eda60f2a764e6"
  },
  {
   "metadata": {},
   "cell_type": "markdown",
   "source": "#### 1.3 Run Prediction on endpoint\n",
   "id": "9ca02c1c87e714b6"
  },
  {
   "metadata": {},
   "cell_type": "code",
   "outputs": [],
   "execution_count": null,
   "source": [
    "endpoint_name = f\"{profile_id}-endpoint\"\n",
    "CONTENT_TYPE_JSON = \"application/json\"\n",
    "payload = json.dumps({\"instances\": inputs})\n",
    "\n",
    "response = sm_client.invoke_endpoint(\n",
    "    EndpointName=endpoint_name,\n",
    "    ContentType=CONTENT_TYPE_JSON,\n",
    "    Accept=CONTENT_TYPE_JSON,\n",
    "    Body=payload,\n",
    ")\n",
    "\n",
    "prediction = json.loads(response[\"Body\"].read())[\"prediction\"]\n",
    "\n",
    "results = pd.DataFrame()\n",
    "results[\"pred\"] = prediction\n",
    "results[\"target\"] = targets\n",
    "results[\"correct\"] = results.apply(lambda x: x.pred == x.target, axis=1)\n",
    "results.head()"
   ],
   "id": "fe32e75e75cd84f5"
  },
  {
   "metadata": {},
   "cell_type": "markdown",
   "source": "#### 1.4 Eval result",
   "id": "4a2e817c7c535445"
  },
  {
   "metadata": {},
   "cell_type": "code",
   "outputs": [],
   "execution_count": null,
   "source": [
    "counts_tar = results['target'].value_counts()\n",
    "counts_pred = results['pred'].value_counts()\n",
    "\n",
    "fig, (ax1, ax2) = plt.subplots(nrows=1, ncols=2, sharey=True, sharex=True)\n",
    "ax1.barh(counts_tar.index, counts_tar.values)\n",
    "ax1.set_title('target')\n",
    "ax2.barh(counts_pred.index, counts_pred.values)\n",
    "ax2.set_title('pred')\n",
    "\n",
    "print(f\"Accuracy: {results.correct.mean()*100:.3f}%\")\n",
    "plt.show()"
   ],
   "id": "b8c0a77bec9b9e6e"
  }
 ],
 "metadata": {
  "kernelspec": {
   "display_name": "Python 3",
   "language": "python",
   "name": "python3"
  },
  "language_info": {
   "codemirror_mode": {
    "name": "ipython",
    "version": 2
   },
   "file_extension": ".py",
   "mimetype": "text/x-python",
   "name": "python",
   "nbconvert_exporter": "python",
   "pygments_lexer": "ipython2",
   "version": "2.7.6"
  }
 },
 "nbformat": 4,
 "nbformat_minor": 5
}
