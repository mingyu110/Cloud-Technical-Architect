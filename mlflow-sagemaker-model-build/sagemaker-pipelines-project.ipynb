{
 "cells": [
  {
   "cell_type": "markdown",
   "metadata": {},
   "source": [
    "# 使用Amazon SageMaker编排作业、进行模型注册与持续部署\n",
    "\n",
    "Amazon SageMaker为机器学习应用开发者和MLOps工程师提供了强大的能力，可以用来编排SageMaker作业、构建可复现的机器学习管道、部署用于实时低延迟推理或离线批量推理的定制化模型，并追踪产物的血缘关系。您可以通过一个简单的界面，遵循机器学习应用开发的安全与最佳实践范式，在部署和监控生产工作流、部署模型产物以及追踪产物血缘关系中，建立起完善的运维实践。\n",
    "\n",
    "SageMaker Pipelines服务支持一种名为SageMaker机器学习管道领域特定语言（DSL）的规范，它是一种声明式的Json规范。这种DSL定义了一个由管道参数和SageMaker作业步骤组成的有向无环图（DAG）。SageMaker Python软件开发工具包（SDK）则使用工程师和科学家们都已熟悉的编程结构，极大地简化了这个管道DSL的生成过程。\n",
    "\n",
    "SageMaker模型注册中心（Model Registry）是用来存储、版本化和管理已训练模型的地方。数据科学家和机器学习工程师可以从一个单一的模型注册中心里，比较不同模型版本、审批用于部署的模型，以及部署来自不同AWS账户的模型。SageMaker让客户能够正确地起步并遵循MLOps的最佳实践。客户能够通过一次API调用，就搭建起一个完整的端到端MLOps系统。"
   ]
  },
  {
   "cell_type": "markdown",
   "metadata": {},
   "source": [
    "## SageMaker Pipelines\n",
    "\n",
    "Amazon SageMaker Pipelines支持以下活动：\n",
    "\n",
    "*   **管道 (Pipelines)** - 一个由步骤和条件组成的有向无环图，用于编排SageMaker作业和资源创建。\n",
    "*   **处理作业步骤 (Processing Job steps)** - 在SageMaker上运行数据处理工作负载的一种简化的、托管式的体验，例如特征工程、数据验证、模型评估和模型解释。\n",
    "*   **训练作业步骤 (Training Job steps)** - 一个通过从训练数据集中提供样本来“教导”模型进行预测的迭代过程。\n",
    "*   **条件执行步骤 (Conditional step execution)** - 在管道中提供分支的条件性执行能力。\n",
    "*   **注册模型 (Registering Models)** - 在模型注册中心创建一个模型包资源，该资源可用于在Amazon SageMaker中创建可部署的模型。\n",
    "*   **创建模型步骤 (Creating Model steps)** - 创建一个模型，用于后续的转换步骤或作为端点发布。\n",
    "*   **参数化管道执行 (Parameterized Pipeline executions)** - 允许管道的执行根据提供的参数而有所不同。\n",
    "*   **转换作业步骤 (Transform Job steps)** - 一种批量转换功能，用于预处理数据集以消除干扰训练或推理的噪声或偏差，从大型数据集中获取推理结果，以及在您不需要持久性端点时运行推理。"
   ]
  },
  {
   "cell_type": "markdown",
   "metadata": {},
   "source": [
    "## SageMaker模型构建项目模板的布局\n",
    "\n",
    "这个模板为将您的SageMaker Pipeline开发带入生产环境提供了一个起点。\n",
    "\n",
    "```\n",
    "|-- codebuild-buildspec.yml\n",
    "|-- CONTRIBUTING.md\n",
    "|-- pipelines\n",
    "|   |-- abalone\n",
    "|   |   |-- evaluate.py\n",
    "|   |   |-- __init__.py\n",
    "|   |   |-- pipeline.py\n",
    "|   |   `-- preprocess.py\n",
    "|   |-- get_pipeline_definition.py\n",
    "|   |-- __init__.py\n",
    "|   |-- run_pipeline.py\n",
    "|   |-- _utils.py\n",
    "|   `-- __version__.py\n",
    "|-- README.md\n",
    "|-- sagemaker-pipelines-project.ipynb\n",
    "|-- setup.cfg\n",
    "|-- setup.py\n",
    "|-- tests\n",
    "|   `-- test_pipelines.py\n",
    "`-- tox.ini\n",
    "```"
   ]
  },
  {
   "cell_type": "markdown",
   "metadata": {},
   "source": [
    "下面对其中一些产物进行了描述：\n",
    "<br/><br/>\n",
    "您的CodeBuild执行指令：\n",
    "```\n",
    "|-- codebuild-buildspec.yml\n",
    "```\n",
    "<br/><br/>\n",
    "您的管道产物，其中包含一个定义了必需的`get_pipeline`方法的管道模块（该方法返回一个SageMaker管道的实例）、一个用于特征工程的预处理脚本，以及一个用于衡量管道所训练模型均方误差（Mean Squared Error）的模型评估脚本：\n",
    "\n",
    "```\n",
    "|-- pipelines\n",
    "|   |-- abalone\n",
    "|   |   |-- evaluate.py\n",
    "|   |   |-- __init__.py\n",
    "|   |   |-- pipeline.py\n",
    "|   |   `-- preprocess.py\n",
    "\n",
    "```\n",
    "\n",
    "对于管道所需的其他包含代码和/或产物的子文件夹，它们需要被`setup.py`文件正确地打包。例如，要打包一个`pipelines/source`文件夹：\n",
    "\n",
    "*   在`source`文件夹内包含一个`__init__.py`文件。\n",
    "*   将其添加到`setup.py`文件的`package_data`中，如下所示：\n",
    "\n",
    "```\n",
    "...\n",
    "    packages=setuptools.find_packages(),\n",
    "    include_package_data=True,\n",
    "    package_data={\"pipelines.my_pipeline.src\": [\"*.txt\"]},\n",
    "    python_requires=\">=3.6\",\n",
    "    install_requires=required_packages,\n",
    "    extras_require=extras,\n",
    "...\n",
    "```\n",
    "\n",
    "<br/><br/>\n",
    "用于获取管道定义json和运行管道的工具模块：\n",
    "\n",
    "```\n",
    "|-- pipelines\n",
    "|   |-- get_pipeline_definition.py\n",
    "|   |-- __init__.py\n",
    "|   |-- run_pipeline.py\n",
    "|   |-- _utils.py\n",
    "|   `-- __version__.py\n",
    "```\n",
    "<br/><br/>\n",
    "Python包的产物：\n",
    "```\n",
    "|-- setup.cfg\n",
    "|-- setup.py\n",
    "```\n",
    "<br/><br/>\n",
    "一个用于在您开发时测试管道的存根测试模块：\n",
    "```\n",
    "|-- tests\n",
    "|   `-- test_pipelines.py\n",
    "```\n",
    "<br/><br/>\n",
    "`tox`测试框架的配置：\n",
    "```\n",
    "`-- tox.ini\n",
    "```"
   ]
  },
  {
   "cell_type": "markdown",
   "metadata": {},
   "source": [
    "### 一个SageMaker管道\n",
    "\n",
    "我们创建的管道遵循一个典型的机器学习应用模式：预处理、训练、评估，以及在模型质量达标时的条件化模型注册与发布。\n",
    "\n",
    "![一个典型的机器学习应用管道](img/pipeline-full.png)\n",
    "\n",
    "### 获取一些常量\n",
    "\n",
    "我们从本地执行环境中获取一些常量。"
   ]
  },
  {
   "cell_type": "code",
   "execution_count": 2,
   "metadata": {},
   "outputs": [],
   "source": [
    "import boto3\n",
    "import sagemaker\n",
    "\n",
    "\n",
    "region = boto3.Session().region_name\n",
    "role = sagemaker.get_execution_role()\n",
    "default_bucket = sagemaker.session.Session().default_bucket()\n",
    "\n",
    "# Change these to reflect your project/business name or if you want to separate ModelPackageGroup/Pipeline from the rest of your team\n",
    "model_package_group_name = f\"IrisPackageGroup\"\n",
    "pipeline_name = f\"IrisPipeline\""
   ]
  },
  {
   "cell_type": "markdown",
   "metadata": {},
   "source": [
    "### 获取管道实例\n",
    "\n",
    "在这里，我们从您的管道模块中获取管道实例，以便我们可以使用它。"
   ]
  },
  {
   "cell_type": "code",
   "execution_count": 3,
   "metadata": {},
   "outputs": [],
   "source": [
    "from pipelines.iris.pipeline import get_pipeline\n",
    "\n",
    "\n",
    "pipeline = get_pipeline(\n",
    "    region=region,\n",
    "    role=role,\n",
    "    default_bucket=default_bucket,\n",
    "    model_package_group_name=model_package_group_name,\n",
    "    pipeline_name=pipeline_name,\n",
    "    processing_instance_type=\"ml.m5.xlarge\",\n",
    "    training_instance_type=\"ml.m5.xlarge\",\n",
    ")"
   ]
  },
  {
   "cell_type": "markdown",
   "metadata": {},
   "source": [
    "### 将管道提交到SageMaker并开始执行\n",
    "\n",
    "让我们将我们的管道定义提交到工作流服务。传入的角色将被工作流服务用来创建步骤中定义的所有作业。"
   ]
  },
  {
   "cell_type": "code",
   "execution_count": 4,
   "metadata": {},
   "outputs": [
    {
     "name": "stderr",
     "output_type": "stream",
     "text": [
      "No finished training job found associated with this estimator. Please make sure this estimator is only used for building workflow config\n"
     ]
    },
    {
     "data": {
      "text/plain": [
       "{'PipelineArn': 'arn:aws:sagemaker:us-west-2:439162431295:pipeline/irispipeline',\n",
       " 'ResponseMetadata': {'RequestId': 'fe58479a-c49a-409f-af3a-1d8f559a0adb',\n",
       "  'HTTPStatusCode': 200,\n",
       "  'HTTPHeaders': {'x-amzn-requestid': 'fe58479a-c49a-409f-af3a-1d8f559a0adb',\n",
       "   'content-type': 'application/x-amz-json-1.1',\n",
       "   'content-length': '80',\n",
       "   'date': 'Wed, 08 Feb 2023 07:09:02 GMT'},\n",
       "  'RetryAttempts': 0}}"
      ]
     },
     "execution_count": 4,
     "metadata": {},
     "output_type": "execute_result"
    }
   ],
   "source": [
    "pipeline.upsert(role_arn=role)"
   ]
  },
  {
   "cell_type": "markdown",
   "metadata": {},
   "source": [
    "我们将启动管道，并接受所有默认参数。\n",
    "\n",
    "在启动管道时，也可以向这些管道参数传入值，这将在稍后介绍。 "
   ]
  },
  {
   "cell_type": "code",
   "execution_count": 5,
   "metadata": {},
   "outputs": [],
   "source": [
    "execution = pipeline.start(\n",
    "    parameters = dict(\n",
    "        MLflowTrackingURI=\"http://mlflow-lb-909049553.us-west-2.elb.amazonaws.com\",\n",
    "        MLflowExperimentName=\"sagemaker-mlflow-iris-test\",\n",
    "        MLflowModelName=\"sagemaker-mlflow-iris-model-test\",\n",
    "    )\n",
    ")"
   ]
  },
  {
   "cell_type": "markdown",
   "metadata": {},
   "source": [
    "### 管道操作：检查并等待管道执行\n",
    "\n",
    "现在我们描述执行实例并列出执行中的步骤，以了解更多关于执行的信息。"
   ]
  },
  {
   "cell_type": "code",
   "execution_count": 6,
   "metadata": {},
   "outputs": [
    {
     "data": {
      "text/plain": [
       "{'PipelineArn': 'arn:aws:sagemaker:us-west-2:439162431295:pipeline/irispipeline',\n",
       " 'PipelineExecutionArn': 'arn:aws:sagemaker:us-west-2:439162431295:pipeline/irispipeline/execution/ca2mwbsxtgim',\n",
       " 'PipelineExecutionDisplayName': 'execution-1675836866755',\n",
       " 'PipelineExecutionStatus': 'Succeeded',\n",
       " 'PipelineExperimentConfig': {'ExperimentName': 'irispipeline',\n",
       "  'TrialName': 'ca2mwbsxtgim'},\n",
       " 'CreationTime': datetime.datetime(2023, 2, 8, 6, 14, 26, 659000, tzinfo=tzlocal()),\n",
       " 'LastModifiedTime': datetime.datetime(2023, 2, 8, 6, 22, 12, 75000, tzinfo=tzlocal()),\n",
       " 'CreatedBy': {'UserProfileArn': 'arn:aws:sagemaker:us-west-2:439162431295:user-profile/d-wovwnxollrhl/ml-learner',\n",
       "  'UserProfileName': 'ml-learner',\n",
       "  'DomainId': 'd-wovwnxollrhl'},\n",
       " 'LastModifiedBy': {'UserProfileArn': 'arn:aws:sagemaker:us-west-2:439162431295:user-profile/d-wovwnxollrhl/ml-learner',\n",
       "  'UserProfileName': 'ml-learner',\n",
       "  'DomainId': 'd-wovwnxollrhl'},\n",
       " 'ResponseMetadata': {'RequestId': 'c0a24181-ee93-41b4-b5b1-def24f8a8b3a',\n",
       "  'HTTPStatusCode': 200,\n",
       "  'HTTPHeaders': {'x-amzn-requestid': 'c0a24181-ee93-41b4-b5b1-def24f8a8b3a',\n",
       "   'content-type': 'application/x-amz-json-1.1',\n",
       "   'content-length': '791',\n",
       "   'date': 'Wed, 08 Feb 2023 06:46:01 GMT'},\n",
       "  'RetryAttempts': 0}}"
      ]
     },
     "execution_count": 6,
     "metadata": {},
     "output_type": "execute_result"
    }
   ],
   "source": [
    "execution.describe()"
   ]
  },
  {
   "cell_type": "markdown",
   "metadata": {},
   "source": [
    "我们可以通过在执行实例上调用`wait()`来等待执行完成："
   ]
  },
  {
   "cell_type": "code",
   "execution_count": null,
   "metadata": {},
   "outputs": [],
   "source": [
    "execution.wait()"
   ]
  },
  {
   "cell_type": "markdown",
   "metadata": {},
   "source": [
    "我们可以列出执行步骤来检查状态和产物："
   ]
  },
  {
   "cell_type": "code",
   "execution_count": 7,
   "metadata": {},
   "outputs": [
    {
     "data": {
      "text/plain": [
       "[{'StepName': 'IrisTuning',\n",
       "  'StartTime': datetime.datetime(2023, 2, 8, 6, 18, 49, 6000, tzinfo=tzlocal()),\n",
       "  'EndTime': datetime.datetime(2023, 2, 8, 6, 22, 11, 417000, tzinfo=tzlocal()),\n",
       "  'StepStatus': 'Succeeded',\n",
       "  'AttemptCount': 0,\n",
       "  'Metadata': {'TuningJob': {'Arn': 'arn:aws:sagemaker:us-west-2:439162431295:hyper-parameter-tuning-job/ca2mwbsxtgim-iristun-wcuaygoeh2'}}},\n",
       " {'StepName': 'PrepareIrisData',\n",
       "  'StartTime': datetime.datetime(2023, 2, 8, 6, 14, 27, 666000, tzinfo=tzlocal()),\n",
       "  'EndTime': datetime.datetime(2023, 2, 8, 6, 18, 48, 295000, tzinfo=tzlocal()),\n",
       "  'StepStatus': 'Succeeded',\n",
       "  'AttemptCount': 0,\n",
       "  'Metadata': {'ProcessingJob': {'Arn': 'arn:aws:sagemaker:us-west-2:439162431295:processing-job/pipelines-ca2mwbsxtgim-prepareirisdata-nl0blpf8iu'}}}]"
      ]
     },
     "execution_count": 7,
     "metadata": {},
     "output_type": "execute_result"
    }
   ],
   "source": [
    "execution.list_steps()"
   ]
  },
  {
   "cell_type": "markdown",
   "metadata": {},
   "source": [
    "### 参数化的执行\n",
    "\n",
    "我们可以通过指定不同的管道参数来运行额外的管道执行。`parameters`参数是一个字典，其键是参数名称，其值是用于覆盖默认值的原始值。\n",
    "\n",
    "特别值得注意的是，根据模型的性能，我们可能希望启动另一次管道执行，但这次使用计算优化型的实例，并将模型审批状态自动设置为“已批准”（Approved）。这意味着由`RegisterModel`步骤生成的模型包版本将自动准备好通过CI/CD管道进行部署，例如使用SageMaker Projects。"
   ]
  },
  {
   "cell_type": "code",
   "execution_count": null,
   "metadata": {},
   "outputs": [],
   "source": [
    "execution = pipeline.start(\n",
    "    parameters=dict(\n",
    "        ProcessingInstanceType=\"ml.c5.xlarge\",\n",
    "        ModelApprovalStatus=\"Approved\",\n",
    "    )\n",
    ")"
   ]
  },
  {
   "cell_type": "code",
   "execution_count": null,
   "metadata": {},
   "outputs": [],
   "source": [
    "execution.wait()"
   ]
  },
  {
   "cell_type": "code",
   "execution_count": null,
   "metadata": {},
   "outputs": [],
   "source": [
    "execution.list_steps()"
   ]
  }
 ],
 "metadata": {
  "instance_type": "ml.t3.medium",
  "kernelspec": {
   "display_name": "Python 3 (Data Science)",
   "language": "python",
   "name": "python3__SAGEMAKER_INTERNAL__arn:aws:sagemaker:us-west-2:236514542706:image/datascience-1.0"
  },
  "language_info": {
   "codemirror_mode": {
    "name": "ipython",
    "version": 3
   },
   "file_extension": ".py",
   "mimetype": "text/x-python",
   "name": "python",
   "nbconvert_exporter": "python",
   "pygments_lexer": "ipython3",
   "version": "3.7.10"
  }
 },
 "nbformat": 4,
 "nbformat_minor": 4
}